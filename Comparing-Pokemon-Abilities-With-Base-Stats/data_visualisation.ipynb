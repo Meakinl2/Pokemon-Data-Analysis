{
 "cells": [
  {
   "cell_type": "code",
   "execution_count": null,
   "id": "f62d43af",
   "metadata": {
    "vscode": {
     "languageId": "plaintext"
    }
   },
   "outputs": [],
   "source": [
    "import numpy as np\n",
    "import pandas as pd\n",
    "import matplotlib.pyplot as plt"
   ]
  },
  {
   "cell_type": "code",
   "execution_count": null,
   "id": "f164576c",
   "metadata": {
    "vscode": {
     "languageId": "plaintext"
    }
   },
   "outputs": [],
   "source": [
    "raw_dataframe = pd.read_csv(\"pokemon_data_raw.csv\", delimiter=\",\")\n",
    "cleaned_dataframe = pd.read_csv(\"pokemon_data_cleaned.csv\", delimiter=\",\")"
   ]
  },
  {
   "cell_type": "markdown",
   "id": "af53875c",
   "metadata": {},
   "source": []
  },
  {
   "cell_type": "code",
   "execution_count": null,
   "id": "50f49af9",
   "metadata": {
    "vscode": {
     "languageId": "plaintext"
    }
   },
   "outputs": [],
   "source": [
    "unique_abilites = set()\n",
    "\n",
    "for index, row in raw_dataframe.iterrows():\n",
    "    ability_string = raw_dataframe['abilities'][index]\n",
    "    ability_string = ability_string.replace(\"[\", \"\").replace(\"]\", \"\").replace(\"'\", \"\")\n",
    "    ability_list = ability_string.split(\",\")\n",
    "\n",
    "    unique_abilites = unique_abilites.union(ability_list)\n",
    "\n",
    "unique_abilites = sorted(list(unique_abilites))\n",
    "\n",
    "for i in range(len(unique_abilites)):\n",
    "    unique_abilites[i] = unique_abilites[i].strip(\" \")\n",
    "\n",
    "ability_total_stats = {ability: [0,0,0,0,0,0,0] for ability in unique_abilites}\n",
    "\n",
    "for index, row in raw_dataframe.iterrows():\n",
    "\n",
    "    for ability in unique_abilites:\n",
    "\n",
    "        if ability in row[\"abilities\"]:\n",
    "            stat_values = [row[\"hp\"], row[\"attack\"], row[\"defense\"], row[\"speed\"], row[\"sp_attack\"], row[\"sp_defense\"], 1]\n",
    "            ability_total_stats[ability] = [x + y for x,y in zip(ability_total_stats[ability], stat_values)]\n",
    "\n",
    "ability_average_stat = {}\n",
    "\n",
    "for ability in unique_abilites:\n",
    "    ability_average_stat[ability] = [round(stat_total / ability_total_stats[ability][6], 2) for stat_total in ability_total_stats[ability][:-1]]\n",
    "\n",
    "\n",
    "plt.figure(figsize=(20,200), dpi=300)\n",
    "fig, ax = plt.subplots()\n",
    "\n",
    "bar_width = 1\n",
    "offset_multipler = 10\n",
    "\n",
    "ax.set_title(\"Base Stats by Abilities.\")\n",
    "\n",
    "ax.set_ylabel(\"Average Stat Value\")\n",
    "ax.set_ylim([0,3400])\n",
    "ax.set_yticks(range(13, offset_multipler * len(unique_abilites) + 10, offset_multipler), unique_abilites)\n",
    "\n",
    "ax.xaxis.tick_top()\n",
    "ax.set_xticks(range(0, 201, 10))\n",
    "\n",
    "ax.grid(axis=\"x\")\n",
    "\n",
    "for i in range(len(stats)):\n",
    "    spacing = [(offset_multipler * x) + (bar_width * i) + offset_multipler for x in range(len(unique_abilites))]\n",
    "\n",
    "    values = [ability_average_stat[ability][i] for ability in unique_abilites]\n",
    "\n",
    "    ax.barh(spacing, values, bar_width, color=stats_colours[i])"
   ]
  }
 ],
 "metadata": {
  "language_info": {
   "name": "python"
  }
 },
 "nbformat": 4,
 "nbformat_minor": 5
}
