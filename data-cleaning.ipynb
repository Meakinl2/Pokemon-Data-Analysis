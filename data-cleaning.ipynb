{
 "cells": [
  {
   "cell_type": "code",
   "execution_count": 563,
   "id": "a65b1b82",
   "metadata": {},
   "outputs": [],
   "source": [
    "import csv\n",
    "import numpy as np\n",
    "import pandas as pd\n",
    "\n",
    "from warnings import simplefilter\n",
    "simplefilter(action=\"ignore\", category=pd.errors.PerformanceWarning)"
   ]
  },
  {
   "cell_type": "code",
   "execution_count": 564,
   "id": "2326728b",
   "metadata": {},
   "outputs": [],
   "source": [
    "raw_dataframe = pd.read_csv(\"pokemon_raw.csv\", delimiter=\",\")"
   ]
  },
  {
   "cell_type": "markdown",
   "id": "bec47e6c",
   "metadata": {},
   "source": [
    "Find if we can rely on pokedex_number to be a primary key for the table, by checking to see if any of the values are duplicated."
   ]
  },
  {
   "cell_type": "code",
   "execution_count": 565,
   "id": "5964fa80",
   "metadata": {},
   "outputs": [],
   "source": [
    "for index, row in enumerate(raw_dataframe['pokedex_number'].duplicated()):\n",
    "    if row == True:\n",
    "        print(f\"Duplicate found {index}.\")"
   ]
  },
  {
   "cell_type": "markdown",
   "id": "a9990291",
   "metadata": {},
   "source": [
    "Obtain a clean list of all unique types from both type columns, while also exluding empty columns. This also allows to check for spelling mistakes in the outputted list."
   ]
  },
  {
   "cell_type": "code",
   "execution_count": 566,
   "id": "7976b3b0",
   "metadata": {},
   "outputs": [
    {
     "name": "stdout",
     "output_type": "stream",
     "text": [
      "['ground', 'fire', 'dragon', 'grass', 'psychic', 'fighting', 'poison', 'rock', 'steel', 'water', 'fairy', 'flying', 'ice', 'ghost', 'normal', 'dark', 'electric', 'bug']\n"
     ]
    }
   ],
   "source": [
    "types_dataframe = raw_dataframe[['pokedex_number', 'type1', 'type2']];\n",
    "\n",
    "type1_uniques = types_dataframe[\"type1\"].unique().tolist()\n",
    "type2_uniques = types_dataframe[\"type2\"].unique().tolist()\n",
    "\n",
    "unique_types = type1_uniques + type2_uniques\n",
    "unique_types = list(set(unique_types))\n",
    "\n",
    "for index, entry in enumerate(unique_types):\n",
    "    if type(entry) == float:\n",
    "        del unique_types[index]\n",
    "\n",
    "print(unique_types)"
   ]
  },
  {
   "cell_type": "markdown",
   "id": "44f04025",
   "metadata": {},
   "source": [
    "Check to see if every entry has at least one type by checking for null values in each column."
   ]
  },
  {
   "cell_type": "code",
   "execution_count": 567,
   "id": "8d0bc63c",
   "metadata": {},
   "outputs": [
    {
     "data": {
      "text/plain": [
       "pokedex_number      0\n",
       "type1               0\n",
       "type2             384\n",
       "dtype: int64"
      ]
     },
     "execution_count": 567,
     "metadata": {},
     "output_type": "execute_result"
    }
   ],
   "source": [
    "types_dataframe.isnull().sum()"
   ]
  },
  {
   "cell_type": "markdown",
   "id": "6ad86e9b",
   "metadata": {},
   "source": [
    "Split the two type columns into boolean identifiers so that the data can be more easily parsed into models, add these new columns to raw_dataframe rather than to the type_dataframe slice."
   ]
  },
  {
   "cell_type": "code",
   "execution_count": 568,
   "id": "e8ede07c",
   "metadata": {},
   "outputs": [
    {
     "name": "stdout",
     "output_type": "stream",
     "text": [
      "[False False False False False False False False False False False False\n",
      " False False False False False False False False False False False False\n",
      " False False  True  True False False  True False False  True False False\n",
      " False False False False False False False False False False False False\n",
      " False  True  True False False False False False False False False False\n",
      " False False False False False False False False False False False False\n",
      " False  True  True  True False False False False False False False False\n",
      " False False False False False False False False False False  True False\n",
      " False False False False False False False  True  True False False False\n",
      " False False  True  True False False False False False False False False\n",
      " False False False False False False False False False False False False\n",
      " False False False False False False False False False False False False\n",
      " False False False False False False False False False False False False\n",
      " False False False False False False False False False False False False\n",
      " False False False False False False False False False False False False\n",
      " False False False False False False False False False False False False\n",
      " False  True  True False False False False False False False False False\n",
      " False False  True  True False False False False False False False False\n",
      " False False False  True  True False False False False False False False\n",
      " False False  True  True False False False False False False False False\n",
      " False False False False False  True  True False False False False False\n",
      " False False False False False False  True  True False False False False\n",
      " False False False False False False False False False False False False\n",
      " False False False False False False False False False False False False\n",
      " False  True False False False False False False False False False False\n",
      " False False False False False False False False False False False False\n",
      " False False False False False False False False False  True  True False\n",
      " False False False  True  True  True False False False False False False\n",
      " False False  True  True False False  True  True False False False False\n",
      " False False False False False False False False False False False False\n",
      " False False False False False False False False False False False False\n",
      " False False False False False False False False False False  True False\n",
      " False False False False  True False False False False False False False\n",
      " False False False False False False False False False False False False\n",
      " False False False False False False False False False False False False\n",
      " False False  True False False False False False False False False False\n",
      " False False False False False False False False False False  True  True\n",
      "  True False False False  True  True False False False False False False\n",
      " False False False False False False False  True False False False False\n",
      " False False False  True  True False False False False False False False\n",
      " False False False False False False False False False False False False\n",
      " False False False False False False False False False False False False\n",
      " False False False False False False False False False False False False\n",
      " False False False False False False False False False False False False\n",
      "  True  True False False False False False  True  True False False False\n",
      " False False False False False False False False False False  True  True\n",
      "  True False False False False False False False False False False False\n",
      " False False False False False False False False False False False False\n",
      " False False False False False False False False False False False False\n",
      " False False False False False False False False False False False False\n",
      " False False False False False False False False False False False False\n",
      " False False False False False  True False False False  True  True False\n",
      " False False False False False False False False False False False False\n",
      " False False False False False False False False  True False False False\n",
      " False False False False False False False False False False False  True\n",
      " False False False False False False False False False False False False\n",
      " False False False False False False False False False False False False\n",
      " False False False False False False False False False False False False\n",
      " False False False False False False False False False False False False\n",
      " False False False False False False False False False  True False False\n",
      " False False False False False False False False False False False False\n",
      " False False False False False False False False False False False False\n",
      " False False False False  True  True False False False False False False\n",
      " False False False False False False False False False False False False\n",
      "  True  True False False False False False False False False False False\n",
      " False False False False False False False False False False False False\n",
      " False False False False False False False False False]\n",
      "Index(['abilities', 'against_bug', 'against_dark', 'against_dragon',\n",
      "       'against_electric', 'against_fairy', 'against_fight', 'against_fire',\n",
      "       'against_flying', 'against_ghost', 'against_grass', 'against_ground',\n",
      "       'against_ice', 'against_normal', 'against_poison', 'against_psychic',\n",
      "       'against_rock', 'against_steel', 'against_water', 'attack',\n",
      "       'base_egg_steps', 'base_happiness', 'base_total', 'capture_rate',\n",
      "       'classfication', 'defense', 'experience_growth', 'height_m', 'hp',\n",
      "       'japanese_name', 'name', 'percentage_male', 'pokedex_number',\n",
      "       'sp_attack', 'sp_defense', 'speed', 'weight_kg', 'generation',\n",
      "       'is_legendary', 'type_ground', 'type_fire', 'type_dragon', 'type_grass',\n",
      "       'type_psychic', 'type_fighting', 'type_poison', 'type_rock',\n",
      "       'type_steel', 'type_water', 'type_fairy', 'type_flying', 'type_ice',\n",
      "       'type_ghost', 'type_normal', 'type_dark', 'type_electric', 'type_bug'],\n",
      "      dtype='object')\n"
     ]
    }
   ],
   "source": [
    "for pokemon_type in unique_types:\n",
    "    raw_dataframe[f\"type_{pokemon_type.lower()}\"] = False\n",
    "\n",
    "for index, row in raw_dataframe.iterrows():\n",
    "    if row['type1'] in unique_types:\n",
    "        raw_dataframe.loc[index, f\"type_{row['type1'].lower()}\"] = True\n",
    "\n",
    "    if type(row['type2']) == float or row['type2'] not in unique_types: continue\n",
    "\n",
    "    raw_dataframe.loc[index, f\"type_{row['type2'].lower()}\"] = True\n",
    "\n",
    "raw_dataframe = raw_dataframe.drop('type1', axis=1)\n",
    "raw_dataframe = raw_dataframe.drop('type2', axis=1)\n",
    "\n",
    "print(raw_dataframe['type_ground'].values)\n",
    "print(raw_dataframe.columns)\n"
   ]
  },
  {
   "cell_type": "markdown",
   "id": "a7b219f5",
   "metadata": {},
   "source": [
    "Check Abilities column for missing data."
   ]
  },
  {
   "cell_type": "code",
   "execution_count": 569,
   "id": "44b18bca",
   "metadata": {},
   "outputs": [
    {
     "data": {
      "text/plain": [
       "pokedex_number    0\n",
       "abilities         0\n",
       "dtype: int64"
      ]
     },
     "execution_count": 569,
     "metadata": {},
     "output_type": "execute_result"
    }
   ],
   "source": [
    "abilities_dataframe = raw_dataframe[['pokedex_number', 'abilities']]\n",
    "abilities_dataframe.isnull().sum()"
   ]
  },
  {
   "cell_type": "markdown",
   "id": "a4eda03c",
   "metadata": {},
   "source": [
    "Accquire a list of all unique abilities to both make categorisation easier and check for spelling errors."
   ]
  },
  {
   "cell_type": "code",
   "execution_count": 570,
   "id": "cfb1fc03",
   "metadata": {},
   "outputs": [
    {
     "name": "stdout",
     "output_type": "stream",
     "text": [
      "{'Multiscale', 'IronBarbs', 'HyperCutter', 'NaturalCure', 'PoisonHeal', 'FlameBody', 'Forewarn', 'Klutz', 'Aftermath', 'FlashFire', 'FriendGuard', 'BeastBoost', 'SpeedBoost', 'ElectricSurge', 'Stall', 'Contrary', 'EarlyBird', 'NoGuard', 'MoldBreaker', 'AromaVeil', 'Stench', 'SweetVeil', 'BattleBond', 'Steadfast', 'StickyHold', 'LiquidVoice', 'Pickup', 'Harvest', 'Overgrow', 'WimpOut', 'Unburden', 'Imposter', 'FairyAura', 'Healer', 'Torrent', 'LeafGuard', 'Receiver', 'MotorDrive', 'Immunity', 'FurCoat', 'PsychicSurge', 'WaterCompaction', 'Pickpocket', 'MegaLauncher', 'RoughSkin', 'Guts', 'RunAway', 'BigPecks', 'AirLock', 'GrassPelt', 'Analytic', 'AuraBreak', 'AngerPoint', 'KeenEye', 'Schooling', 'PrismArmor', 'Gooey', 'SnowCloak', 'Mummy', 'FlowerVeil', 'TanglingHair', 'MagicGuard', 'ShieldsDown', 'MistySurge', 'LightMetal', 'Magician', 'Refrigerate', 'IceBody', 'Chlorophyll', 'MagicBounce', 'ToughClaws', 'Technician', 'Unaware', 'Hydration', 'Blaze', 'Battery', 'Defiant', 'FullMetalBody', 'Sniper', 'MagnetPull', 'Swarm', 'LiquidOoze', 'WeakArmor', 'BattleArmor', 'Synchronize', 'Scrappy', 'SapSipper', 'SwiftSwim', 'InnerFocus', 'Frisk', 'GrassySurge', 'ShieldDust', 'Dazzling', 'Drought', 'EmergencyExit', 'Limber', 'ThickFat', 'Fluffy', 'Competitive', 'SandVeil', 'FlowerGift', 'QuickFeet', 'Heatproof', 'QueenlyMajesty', 'Forecast', 'DrySkin', 'ShellArmor', 'Filter', 'Multitype', 'SuperLuck', 'StormDrain', 'Reckless', 'SheerForce', 'MarvelScale', 'Justified', 'Adaptability', 'ZenMode', 'PoisonPoint', 'RockHead', 'Normalize', 'Stamina', 'CheekPouch', 'Illusion', 'HugePower', 'Rattled', 'Bulletproof', 'HeavyMetal', 'Plus', 'Truant', 'Oblivious', 'Unnerve', 'Pixilate', 'Soundproof', 'SandStream', 'WhiteSmoke', 'Intimidate', 'Galvanize', 'Corrosion', 'SurgeSurfer', 'Compoundeyes', 'InnardsOut', 'ShadowShield', 'RKSSystem', 'CloudNine', 'Protean', 'Anticipation', 'Pressure', 'Dancer', 'Regenerator', 'Soul-Heart', 'Prankster', 'Stakeout', 'DarkAura', 'PoisonTouch', 'Moxie', 'Lightningrod', 'CuteCharm', 'SkillLink', 'Levitate', 'Drizzle', 'Illuminate', 'StanceChange', 'SolarPower', 'WaterVeil', 'Defeatist', 'SandForce', 'PurePower', 'Turboblaze', 'GaleWings', 'Gluttony', 'Overcoat', 'Telepathy', 'WonderGuard', 'SnowWarning', 'Steelworker', 'Merciless', 'Triage', 'VoltAbsorb', 'CursedBody', 'Insomnia', 'SuctionCups', 'VictoryStar', 'Berserk', 'ArenaTrap', 'WaterAbsorb', 'PowerofAlchemy', 'LongReach', 'Comatose', 'Static', 'TangledFeet', 'PowerConstruct', 'EffectSpore', 'RainDish', 'WonderSkin', 'Minus', 'ClearBody', 'Simple', 'ToxicBoost', 'ColorChange', 'Hustle', 'SlowStart', 'Symbiosis', 'Sturdy', 'SlushRush', 'ShedSkin', 'Download', 'SereneGrace', 'TintedLens', 'HoneyGather', 'Trace', 'BadDreams', 'IronFist', 'Moody', 'WaterBubble', 'Disguise', 'Rivalry', 'Infiltrator', 'Damp', 'SolidRock', 'SandRush', 'VitalSpirit', 'OwnTempo', 'Teravolt', 'FlareBoost', 'MagmaArmor', 'ShadowTag', 'StrongJaw'}\n"
     ]
    }
   ],
   "source": [
    "unique_abilites = set()\n",
    "\n",
    "for index, row in abilities_dataframe.iterrows():\n",
    "    ability_string = abilities_dataframe['abilities'][index]\n",
    "    ability_string = ability_string.replace(\"[\", \"\").replace(\"]\", \"\").replace(\"'\", \"\").replace(\" \", \"\")\n",
    "    ability_list = ability_string.split(\",\")\n",
    "\n",
    "    unique_abilites = unique_abilites.union(ability_list)\n",
    "\n",
    "\n",
    "print(unique_abilites)"
   ]
  },
  {
   "cell_type": "markdown",
   "id": "b1e53900",
   "metadata": {},
   "source": [
    "Split abilities lists into categroric data."
   ]
  },
  {
   "cell_type": "code",
   "execution_count": 571,
   "id": "018cb771",
   "metadata": {},
   "outputs": [
    {
     "name": "stdout",
     "output_type": "stream",
     "text": [
      "[False False False False False False False False False False False False\n",
      " False False False False False False False False False False False False\n",
      " False False False False False False False False False False False False\n",
      " False False False False False False False False False False False False\n",
      " False False False False False False False False False False False False\n",
      " False False False False False False False False False False False False\n",
      " False False False False False False False False False False False False\n",
      " False False False False False False False False False False False False\n",
      " False False False False False False False False False False False False\n",
      " False False False False False False False False False False False False\n",
      " False False False False False False False False False False False False\n",
      "  True False False False False False False False False False False False\n",
      " False False False False False False False False False False False False\n",
      " False False False False False False False False False False False False\n",
      " False False False False False False False False False False False False\n",
      " False False False False False False False False False False False False\n",
      " False False False False False False False False False False False False\n",
      " False False False False False False False False False False False False\n",
      " False False False False False False False False False False False False\n",
      " False False False False False False False False False False False False\n",
      " False False False False False False False False False False False False\n",
      " False False False False False False False False False False False False\n",
      " False False False False False False False False False False False False\n",
      " False False False False False False False False False False False False\n",
      " False False False False False False False False False False False False\n",
      " False False False False False False False False False False False False\n",
      " False False False False False False False False False False False False\n",
      " False False False False False False False False False False False False\n",
      " False False False False  True  True False False False False False False\n",
      "  True False False False False False False False False False False False\n",
      " False False False False False False False False False False False False\n",
      " False False False False False False False False False False False False\n",
      " False False False False False False False False False False False False\n",
      " False False False False False False False False False False False False\n",
      " False False False False False False False False False False False False\n",
      " False False False False False False False False False False False False\n",
      " False False False False False False False False False False False False\n",
      " False False False False False False False False False False False False\n",
      " False False False False False False False False False False False False\n",
      " False False False False False  True False False False False False False\n",
      " False False False False False False False False False False False False\n",
      " False False False False False False False False False False False False\n",
      " False False False False False False False False False False False False\n",
      " False False False False False False False False False False False False\n",
      " False False False False False False False False False False False False\n",
      " False False False False False False False False False  True False False\n",
      " False False False False False False False False False False False False\n",
      " False False False False False False False False False False False False\n",
      " False False False False False False False False False False False False\n",
      " False False False False False False False False False False False False\n",
      " False False False False False False False False False False False False\n",
      " False False False False False False False False False False False False\n",
      " False False False False False False False False False False False False\n",
      " False False False False False False False False False False False False\n",
      " False False False False False False False False False False False False\n",
      " False False False False False False False False False False False False\n",
      " False False False False False False False False False False False False\n",
      " False False False False False  True  True False False False False False\n",
      " False False False False False False False False False False False False\n",
      " False False False False False False False False False False False False\n",
      " False False False False False False False False False False False False\n",
      " False  True  True False False False False False False False False False\n",
      " False False False False False False False False False False False False\n",
      " False False False False False False False False False False False False\n",
      " False False False False False False False False False False False False\n",
      " False False False False False False False False False False False False\n",
      " False False False False False False False False False]\n",
      "Index(['against_bug', 'against_dark', 'against_dragon', 'against_electric',\n",
      "       'against_fairy', 'against_fight', 'against_fire', 'against_flying',\n",
      "       'against_ghost', 'against_grass',\n",
      "       ...\n",
      "       'ability_shieldsdown', 'ability_electricsurge', 'ability_psychicsurge',\n",
      "       'ability_grassysurge', 'ability_mistysurge', 'ability_fullmetalbody',\n",
      "       'ability_shadowshield', 'ability_beastboost', 'ability_prismarmor',\n",
      "       'ability_soul-heart'],\n",
      "      dtype='object', length=409)\n"
     ]
    }
   ],
   "source": [
    "for pokemon_ability in unique_abilites:\n",
    "    for index, character in enumerate(pokemon_ability):\n",
    "        if character.isupper() and index != 0:\n",
    "            pokemon_ability = pokemon_ability[:index] + \"_\" + pokemon_ability[index:]\n",
    "        \n",
    "    raw_dataframe[f\"ability_{pokemon_ability.lower()}\"] = False\n",
    "\n",
    "for index, row in raw_dataframe.iterrows():\n",
    "    ability_string = raw_dataframe['abilities'][index]\n",
    "    ability_string = ability_string.replace(\"[\", \"\").replace(\"]\", \"\").replace(\"'\", \"\").replace(\" \", \"\")\n",
    "    ability_list = ability_string.split(\",\")\n",
    "\n",
    "    for pokemon_ability in ability_list:\n",
    "        raw_dataframe.loc[index, f\"ability_{pokemon_ability.lower()}\"] = True\n",
    "        \n",
    "raw_dataframe =  raw_dataframe.drop(\"abilities\", axis=1)\n",
    "    \n",
    "print(raw_dataframe[\"ability_adaptability\"].values)\n",
    "print(raw_dataframe.columns)"
   ]
  }
 ],
 "metadata": {
  "kernelspec": {
   "display_name": "Python 3",
   "language": "python",
   "name": "python3"
  },
  "language_info": {
   "codemirror_mode": {
    "name": "ipython",
    "version": 3
   },
   "file_extension": ".py",
   "mimetype": "text/x-python",
   "name": "python",
   "nbconvert_exporter": "python",
   "pygments_lexer": "ipython3",
   "version": "3.10.12"
  }
 },
 "nbformat": 4,
 "nbformat_minor": 5
}
