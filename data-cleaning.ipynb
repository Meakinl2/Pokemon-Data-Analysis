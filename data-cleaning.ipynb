{
 "cells": [
  {
   "cell_type": "code",
   "execution_count": 309,
   "id": "a65b1b82",
   "metadata": {},
   "outputs": [],
   "source": [
    "import csv\n",
    "import numpy as np\n",
    "import pandas as pd"
   ]
  },
  {
   "cell_type": "code",
   "execution_count": 310,
   "id": "2326728b",
   "metadata": {},
   "outputs": [],
   "source": [
    "raw_dataframe = pd.read_csv(\"pokemon_raw.csv\", delimiter=\",\")"
   ]
  },
  {
   "cell_type": "markdown",
   "id": "bec47e6c",
   "metadata": {},
   "source": [
    "Find if we can rely on pokedex_number to be a primary key for the table, by checking to see if any of the values are duplicated."
   ]
  },
  {
   "cell_type": "code",
   "execution_count": 311,
   "id": "5964fa80",
   "metadata": {},
   "outputs": [],
   "source": [
    "for index, row in enumerate(raw_dataframe['pokedex_number'].duplicated()):\n",
    "    if row == True:\n",
    "        print(f\"Duplicate found {index}.\")"
   ]
  },
  {
   "cell_type": "markdown",
   "id": "a9990291",
   "metadata": {},
   "source": [
    "Obtain a clean list of all unique types from both type columns, while also exluding empty columns. This also allows to check for spelling mistakes in the outputted list."
   ]
  },
  {
   "cell_type": "code",
   "execution_count": 312,
   "id": "7976b3b0",
   "metadata": {},
   "outputs": [
    {
     "data": {
      "text/plain": [
       "['ground',\n",
       " 'fire',\n",
       " 'dragon',\n",
       " 'grass',\n",
       " 'psychic',\n",
       " 'fighting',\n",
       " 'poison',\n",
       " 'rock',\n",
       " 'steel',\n",
       " 'water',\n",
       " 'fairy',\n",
       " 'flying',\n",
       " 'ice',\n",
       " 'ghost',\n",
       " 'normal',\n",
       " 'dark',\n",
       " 'electric',\n",
       " 'bug']"
      ]
     },
     "execution_count": 312,
     "metadata": {},
     "output_type": "execute_result"
    }
   ],
   "source": [
    "types_dataframe = raw_dataframe[['pokedex_number', 'type1', 'type2']];\n",
    "\n",
    "type1_uniques = types_dataframe[\"type1\"].unique().tolist()\n",
    "type2_uniques = types_dataframe[\"type2\"].unique().tolist()\n",
    "\n",
    "unique_types = type1_uniques + type2_uniques\n",
    "unique_types = list(set(unique_types))\n",
    "\n",
    "for index, entry in enumerate(unique_types):\n",
    "    if type(entry) == float:\n",
    "        del unique_types[index]\n",
    "\n",
    "unique_types"
   ]
  },
  {
   "cell_type": "markdown",
   "id": "44f04025",
   "metadata": {},
   "source": [
    "Check to see if every entry has at least one type by checking for null values in each column."
   ]
  },
  {
   "cell_type": "code",
   "execution_count": 313,
   "id": "8d0bc63c",
   "metadata": {},
   "outputs": [
    {
     "data": {
      "text/plain": [
       "pokedex_number      0\n",
       "type1               0\n",
       "type2             384\n",
       "dtype: int64"
      ]
     },
     "execution_count": 313,
     "metadata": {},
     "output_type": "execute_result"
    }
   ],
   "source": [
    "types_dataframe.isnull().sum()"
   ]
  },
  {
   "cell_type": "markdown",
   "id": "6ad86e9b",
   "metadata": {},
   "source": [
    "Split the two type columns into boolean identifiers so that the data can be more easily parsed into models, add these new columns to raw_dataframe rather than to the type_dataframe slice."
   ]
  },
  {
   "cell_type": "code",
   "execution_count": 314,
   "id": "e8ede07c",
   "metadata": {},
   "outputs": [
    {
     "name": "stdout",
     "output_type": "stream",
     "text": [
      "                       abilities  against_bug  against_dark  against_dragon  \\\n",
      "0    ['Overgrow', 'Chlorophyll']         1.00           1.0             1.0   \n",
      "1    ['Overgrow', 'Chlorophyll']         1.00           1.0             1.0   \n",
      "2    ['Overgrow', 'Chlorophyll']         1.00           1.0             1.0   \n",
      "3       ['Blaze', 'Solar Power']         0.50           1.0             1.0   \n",
      "4       ['Blaze', 'Solar Power']         0.50           1.0             1.0   \n",
      "..                           ...          ...           ...             ...   \n",
      "796              ['Beast Boost']         0.25           1.0             0.5   \n",
      "797              ['Beast Boost']         1.00           1.0             0.5   \n",
      "798              ['Beast Boost']         2.00           0.5             2.0   \n",
      "799              ['Prism Armor']         2.00           2.0             1.0   \n",
      "800               ['Soul-Heart']         0.25           0.5             0.0   \n",
      "\n",
      "     against_electric  against_fairy  against_fight  against_fire  \\\n",
      "0                 0.5            0.5            0.5           2.0   \n",
      "1                 0.5            0.5            0.5           2.0   \n",
      "2                 0.5            0.5            0.5           2.0   \n",
      "3                 1.0            0.5            1.0           0.5   \n",
      "4                 1.0            0.5            1.0           0.5   \n",
      "..                ...            ...            ...           ...   \n",
      "796               2.0            0.5            1.0           2.0   \n",
      "797               0.5            0.5            2.0           4.0   \n",
      "798               0.5            4.0            2.0           0.5   \n",
      "799               1.0            1.0            0.5           1.0   \n",
      "800               1.0            0.5            1.0           2.0   \n",
      "\n",
      "     against_flying  against_ghost  ...  type_steel  type_water  type_fairy  \\\n",
      "0               2.0            1.0  ...       False       False       False   \n",
      "1               2.0            1.0  ...       False       False       False   \n",
      "2               2.0            1.0  ...       False       False       False   \n",
      "3               1.0            1.0  ...       False       False       False   \n",
      "4               1.0            1.0  ...       False       False       False   \n",
      "..              ...            ...  ...         ...         ...         ...   \n",
      "796             0.5            1.0  ...        True       False       False   \n",
      "797             1.0            1.0  ...        True       False       False   \n",
      "798             1.0            0.5  ...       False       False       False   \n",
      "799             1.0            2.0  ...       False       False       False   \n",
      "800             0.5            1.0  ...        True       False        True   \n",
      "\n",
      "     type_flying  type_ice  type_ghost  type_normal  type_dark  type_electric  \\\n",
      "0          False     False       False        False      False          False   \n",
      "1          False     False       False        False      False          False   \n",
      "2          False     False       False        False      False          False   \n",
      "3          False     False       False        False      False          False   \n",
      "4          False     False       False        False      False          False   \n",
      "..           ...       ...         ...          ...        ...            ...   \n",
      "796         True     False       False        False      False          False   \n",
      "797        False     False       False        False      False          False   \n",
      "798        False     False       False        False       True          False   \n",
      "799        False     False       False        False      False          False   \n",
      "800        False     False       False        False      False          False   \n",
      "\n",
      "     type_bug  \n",
      "0       False  \n",
      "1       False  \n",
      "2       False  \n",
      "3       False  \n",
      "4       False  \n",
      "..        ...  \n",
      "796     False  \n",
      "797     False  \n",
      "798     False  \n",
      "799     False  \n",
      "800     False  \n",
      "\n",
      "[801 rows x 57 columns]\n"
     ]
    }
   ],
   "source": [
    "for pokemon_type in unique_types:\n",
    "    raw_dataframe[f\"type_{pokemon_type.lower()}\"] = False\n",
    "\n",
    "for index, row in raw_dataframe.iterrows():\n",
    "    if row['type1'] in unique_types:\n",
    "        raw_dataframe.loc[index, f\"type_{row['type1'].lower()}\"] = True\n",
    "\n",
    "    if type(row['type2']) == float or row['type2'] not in unique_types: continue\n",
    "\n",
    "    raw_dataframe.loc[index, f\"type_{row['type2'].lower()}\"] = True\n",
    "\n",
    "raw_dataframe = raw_dataframe.drop('type1', axis=1)\n",
    "raw_dataframe = raw_dataframe.drop('type2', axis=1)\n",
    "\n",
    "print(raw_dataframe)\n"
   ]
  }
 ],
 "metadata": {
  "kernelspec": {
   "display_name": "Python 3",
   "language": "python",
   "name": "python3"
  },
  "language_info": {
   "codemirror_mode": {
    "name": "ipython",
    "version": 3
   },
   "file_extension": ".py",
   "mimetype": "text/x-python",
   "name": "python",
   "nbconvert_exporter": "python",
   "pygments_lexer": "ipython3",
   "version": "3.10.12"
  }
 },
 "nbformat": 4,
 "nbformat_minor": 5
}
