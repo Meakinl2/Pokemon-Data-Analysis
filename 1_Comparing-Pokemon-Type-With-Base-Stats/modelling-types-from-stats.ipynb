{
 "cells": [
  {
   "cell_type": "code",
   "execution_count": 93,
   "id": "ce77820b",
   "metadata": {},
   "outputs": [],
   "source": [
    "import pandas as pd\n",
    "import matplotlib.pyplot as pyplot\n",
    "import seaborn as sns\n",
    "\n",
    "from sklearn.preprocessing import StandardScaler\n",
    "from sklearn.model_selection import train_test_split, GridSearchCV\n",
    "from sklearn.linear_model import LogisticRegression\n",
    "from sklearn.metrics import confusion_matrix, accuracy_score, f1_score, recall_score, precision_score, roc_auc_score"
   ]
  },
  {
   "cell_type": "code",
   "execution_count": 94,
   "id": "d2df3f43",
   "metadata": {},
   "outputs": [
    {
     "data": {
      "text/plain": [
       "type1           0\n",
       "type2         384\n",
       "hp              0\n",
       "attack          0\n",
       "defense         0\n",
       "speed           0\n",
       "sp_attack       0\n",
       "sp_defense      0\n",
       "dtype: int64"
      ]
     },
     "execution_count": 94,
     "metadata": {},
     "output_type": "execute_result"
    }
   ],
   "source": [
    "dataframe = pd.read_csv(\"types_stats_data.csv\")\n",
    "\n",
    "dataframe.isna().sum()"
   ]
  },
  {
   "cell_type": "markdown",
   "id": "bf203dfa",
   "metadata": {},
   "source": [
    "To better fit the data into a Logistic Regression Model, we're going to combine the type1 and type2 columsn by adding a duplicate entry for any pokemon with doouble types except with their secondary type as their primary. This also gives about another 400 data points to work with, and should slightly boost the models effectivenss."
   ]
  },
  {
   "cell_type": "code",
   "execution_count": 95,
   "id": "64f5127c",
   "metadata": {},
   "outputs": [
    {
     "data": {
      "text/html": [
       "<div>\n",
       "<style scoped>\n",
       "    .dataframe tbody tr th:only-of-type {\n",
       "        vertical-align: middle;\n",
       "    }\n",
       "\n",
       "    .dataframe tbody tr th {\n",
       "        vertical-align: top;\n",
       "    }\n",
       "\n",
       "    .dataframe thead th {\n",
       "        text-align: right;\n",
       "    }\n",
       "</style>\n",
       "<table border=\"1\" class=\"dataframe\">\n",
       "  <thead>\n",
       "    <tr style=\"text-align: right;\">\n",
       "      <th></th>\n",
       "      <th>type1</th>\n",
       "      <th>type2</th>\n",
       "      <th>hp</th>\n",
       "      <th>attack</th>\n",
       "      <th>defense</th>\n",
       "      <th>speed</th>\n",
       "      <th>sp_attack</th>\n",
       "      <th>sp_defense</th>\n",
       "    </tr>\n",
       "  </thead>\n",
       "  <tbody>\n",
       "    <tr>\n",
       "      <th>1214</th>\n",
       "      <td>fighting</td>\n",
       "      <td>NaN</td>\n",
       "      <td>71</td>\n",
       "      <td>137</td>\n",
       "      <td>37</td>\n",
       "      <td>151</td>\n",
       "      <td>137</td>\n",
       "      <td>37</td>\n",
       "    </tr>\n",
       "    <tr>\n",
       "      <th>1215</th>\n",
       "      <td>flying</td>\n",
       "      <td>NaN</td>\n",
       "      <td>97</td>\n",
       "      <td>101</td>\n",
       "      <td>103</td>\n",
       "      <td>61</td>\n",
       "      <td>107</td>\n",
       "      <td>101</td>\n",
       "    </tr>\n",
       "    <tr>\n",
       "      <th>1216</th>\n",
       "      <td>steel</td>\n",
       "      <td>NaN</td>\n",
       "      <td>59</td>\n",
       "      <td>181</td>\n",
       "      <td>131</td>\n",
       "      <td>109</td>\n",
       "      <td>59</td>\n",
       "      <td>31</td>\n",
       "    </tr>\n",
       "    <tr>\n",
       "      <th>1217</th>\n",
       "      <td>dragon</td>\n",
       "      <td>NaN</td>\n",
       "      <td>223</td>\n",
       "      <td>101</td>\n",
       "      <td>53</td>\n",
       "      <td>43</td>\n",
       "      <td>97</td>\n",
       "      <td>53</td>\n",
       "    </tr>\n",
       "    <tr>\n",
       "      <th>1218</th>\n",
       "      <td>fairy</td>\n",
       "      <td>NaN</td>\n",
       "      <td>80</td>\n",
       "      <td>95</td>\n",
       "      <td>115</td>\n",
       "      <td>65</td>\n",
       "      <td>130</td>\n",
       "      <td>115</td>\n",
       "    </tr>\n",
       "  </tbody>\n",
       "</table>\n",
       "</div>"
      ],
      "text/plain": [
       "         type1 type2   hp  attack  defense  speed  sp_attack  sp_defense\n",
       "1214  fighting   NaN   71     137       37    151        137          37\n",
       "1215    flying   NaN   97     101      103     61        107         101\n",
       "1216     steel   NaN   59     181      131    109         59          31\n",
       "1217    dragon   NaN  223     101       53     43         97          53\n",
       "1218     fairy   NaN   80      95      115     65        130         115"
      ]
     },
     "execution_count": 95,
     "metadata": {},
     "output_type": "execute_result"
    }
   ],
   "source": [
    "double_type_dataframe = dataframe.dropna()\n",
    "\n",
    "for index, row in double_type_dataframe.iterrows():\n",
    "    if type(row[\"type2\"]) == float: continue\n",
    "   \n",
    "    dataframe.loc[dataframe.shape[0] + 1] = [row[\"type2\"], pd.NA, row[\"hp\"], row[\"attack\"], row[\"defense\"], row[\"speed\"], row[\"sp_attack\"], row[\"sp_defense\"]]\n",
    "\n",
    "dataframe.tail()"
   ]
  },
  {
   "cell_type": "code",
   "execution_count": 96,
   "id": "b26ee241",
   "metadata": {},
   "outputs": [],
   "source": [
    "x = dataframe[[\"hp\",\"defense\",\"attack\",\"speed\",\"sp_defense\",\"sp_attack\"]]\n",
    "y = dataframe[\"type1\"]\n",
    "\n",
    "x_train, x_test, y_train, y_test = train_test_split(x,y,test_size=0.2,random_state=42)"
   ]
  },
  {
   "cell_type": "markdown",
   "id": "b4a2fa34",
   "metadata": {},
   "source": [
    "With Precision, Accuracy, and Recall scores all around the 0.15 mark it's clear that there is very little correlation between the stats and the types of the pokemon. The heatmap of the cofusion matrix shows that while some types are sliightly more likely to be predicted correctly, generally types are precicted incorrectly and almost at random."
   ]
  },
  {
   "cell_type": "code",
   "execution_count": 97,
   "id": "442587fe",
   "metadata": {},
   "outputs": [
    {
     "name": "stdout",
     "output_type": "stream",
     "text": [
      "Precision: 0.150097636547162\n",
      "Accuracy: 0.1598360655737705\n",
      "Recall: 0.1598360655737705\n",
      "F1 Score: 0.13522064279357457\n"
     ]
    },
    {
     "name": "stderr",
     "output_type": "stream",
     "text": [
      "/home/elfy/.local/lib/python3.10/site-packages/sklearn/metrics/_classification.py:1509: UndefinedMetricWarning: Precision is ill-defined and being set to 0.0 in labels with no predicted samples. Use `zero_division` parameter to control this behavior.\n",
      "  _warn_prf(average, modifier, f\"{metric.capitalize()} is\", len(result))\n"
     ]
    },
    {
     "data": {
      "text/plain": [
       "<Axes: >"
      ]
     },
     "execution_count": 97,
     "metadata": {},
     "output_type": "execute_result"
    },
    {
     "data": {
      "image/png": "[encoded data removed]",
      "text/plain": [
       "<Figure size 640x480 with 2 Axes>"
      ]
     },
     "metadata": {},
     "output_type": "display_data"
    }
   ],
   "source": [
    "log_reg_model = LogisticRegression(max_iter=10000)\n",
    "log_reg_model.fit(x_train,y_train)\n",
    "\n",
    "\n",
    "y_pred = log_reg_model.predict(x_test)\n",
    "\n",
    "confusion_matrix = confusion_matrix(y_test, y_pred)\n",
    "precision_score = precision_score(y_test, y_pred, average='weighted')\n",
    "accuracy_score = accuracy_score(y_test, y_pred)\n",
    "recall_score = recall_score (y_test, y_pred, average='weighted')\n",
    "f1_score = f1_score(y_test, y_pred, average='weighted')\n",
    "\n",
    "print(f\"Precision: {precision_score}\\nAccuracy: {accuracy_score}\\nRecall: {recall_score}\\nF1 Score: {f1_score}\")\n",
    "sns.heatmap(confusion_matrix)"
   ]
  }
 ],
 "metadata": {
  "kernelspec": {
   "display_name": "Python 3",
   "language": "python",
   "name": "python3"
  },
  "language_info": {
   "codemirror_mode": {
    "name": "ipython",
    "version": 3
   },
   "file_extension": ".py",
   "mimetype": "text/x-python",
   "name": "python",
   "nbconvert_exporter": "python",
   "pygments_lexer": "ipython3",
   "version": "3.10.12"
  }
 },
 "nbformat": 4,
 "nbformat_minor": 5
}
