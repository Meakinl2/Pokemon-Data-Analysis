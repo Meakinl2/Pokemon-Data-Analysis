{
 "cells": [
  {
   "cell_type": "code",
   "execution_count": 1,
   "id": "989966f7",
   "metadata": {},
   "outputs": [],
   "source": [
    "import pandas as pd\n",
    "import matplotlib.pyplot as plt\n",
    "\n",
    "from sklearn.model_selection import train_test_split, GridSearchCV  \n",
    "from sklearn.linear_model import LinearRegression\n",
    "from sklearn.metrics import mean_squared_error, r2_score"
   ]
  },
  {
   "cell_type": "code",
   "execution_count": 2,
   "id": "2b3a0d05",
   "metadata": {},
   "outputs": [],
   "source": [
    "dataframe = pd.read_csv(\"types_stats_data.csv\")"
   ]
  },
  {
   "cell_type": "markdown",
   "id": "00c68924",
   "metadata": {},
   "source": [
    "To be able to use the categoric data of Pokemon type we're going to need to utilise One Hot Encoding to split up the eightenn possible categeories into boolen values. Though there are methods to do this automatically, due to their being null values present in the type2 column and because we are combining the data from both columns in the same step, I have chosen to do this manualy."
   ]
  },
  {
   "cell_type": "code",
   "execution_count": null,
   "id": "eb15cc6d",
   "metadata": {},
   "outputs": [],
   "source": [
    "type1_uniques = dataframe[\"type1\"].unique().tolist()\n",
    "type2_uniques = dataframe[\"type2\"].unique().tolist()\n",
    "\n",
    "unique_types = type1_uniques + type2_uniques\n",
    "unique_types = list(set(unique_types)) \n",
    "\n",
    "for pokemon_type in unique_types:\n",
    "    if type(pokemon_type) == float: continue # Deal with null entry\n",
    "    dataframe[f\"type_{pokemon_type.lower()}\"] = False\n",
    "\n",
    "for index, row in dataframe.iterrows():\n",
    "    if row['type1'] in unique_types:\n",
    "        dataframe.loc[index, f\"type_{row['type1'].lower()}\"] = True\n",
    "\n",
    "    if type(row['type2']) == float or row['type2'] not in unique_types: continue\n",
    "\n",
    "    dataframe.loc[index, f\"type_{row['type2'].lower()}\"] = True\n",
    "\n",
    "dataframe = dataframe.drop('type1', axis=1)\n",
    "dataframe = dataframe.drop('type2', axis=1)"
   ]
  },
  {
   "cell_type": "markdown",
   "id": "78785b94",
   "metadata": {},
   "source": [
    "Next we are going to take the new columns and use them as out dependent (input) values, and combine them with the stats data which will act as the independent (predictor) values. We'll then split the data up into train data and test data, so that we'll have some way to validate the created model afterwards."
   ]
  },
  {
   "cell_type": "code",
   "execution_count": 4,
   "id": "4f9aef4e",
   "metadata": {},
   "outputs": [],
   "source": [
    "x = dataframe.loc[:, ~dataframe.columns.isin([\"hp\",\"defense\",\"attack\",\"speed\",\"sp_defense\",\"sp_attack\"])]\n",
    "y = dataframe[[\"hp\",\"defense\",\"attack\",\"speed\",\"sp_defense\",\"sp_attack\"]]\n",
    "\n",
    "x_train, x_test, y_train, y_test = train_test_split(x,y,test_size=0.2,random_state=42)"
   ]
  },
  {
   "cell_type": "markdown",
   "id": "58eac3d1",
   "metadata": {},
   "source": [
    "After fitting out training data to a linear regression model we move on to validate it using the test data. By fitting this test data to our model we get some predicted values which we can compare to the actual values that the x_test data lines up with. Shown below we can see that out r2 score is incredibly low at less than 0.1, which means that model is incredibly innaccurate at predicting results to the point that the there may be very little correlation between the inputs and outputs. Similarly the mean squared error and root mean squared error are very high, which one again suggest the model is very innacurate."
   ]
  },
  {
   "cell_type": "code",
   "execution_count": 5,
   "id": "ebd661a7",
   "metadata": {},
   "outputs": [
    {
     "name": "stdout",
     "output_type": "stream",
     "text": [
      "R2: 0.0948\n",
      "MSE: 711.2997\n",
      "RMSE 355.6498\n"
     ]
    }
   ],
   "source": [
    "lin_reg_model = LinearRegression()\n",
    "lin_reg_model.fit(x_train, y_train)\n",
    "\n",
    "y_pred = lin_reg_model.predict(x_test)\n",
    "r2 = r2_score(y_test, y_pred)\n",
    "mse = mean_squared_error(y_test, y_pred)\n",
    "rmse = mse ** 1/2\n",
    "\n",
    "print(f\"R2: {r2:.4f}\\nMSE: {mse:.4f}\\nRMSE {rmse:.4f}\")"
   ]
  }
 ],
 "metadata": {
  "kernelspec": {
   "display_name": "Python 3",
   "language": "python",
   "name": "python3"
  },
  "language_info": {
   "codemirror_mode": {
    "name": "ipython",
    "version": 3
   },
   "file_extension": ".py",
   "mimetype": "text/x-python",
   "name": "python",
   "nbconvert_exporter": "python",
   "pygments_lexer": "ipython3",
   "version": "3.10.12"
  }
 },
 "nbformat": 4,
 "nbformat_minor": 5
}
